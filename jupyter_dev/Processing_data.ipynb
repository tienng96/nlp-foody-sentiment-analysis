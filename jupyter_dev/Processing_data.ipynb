{
 "cells": [
  {
   "cell_type": "code",
   "execution_count": 1,
   "metadata": {},
   "outputs": [],
   "source": [
    "import json\n",
    "import os\n",
    "import pandas as pd\n",
    "import numpy as np\n",
    "import preprocessor\n",
    "from pyvi import ViTokenizer\n",
    "from sklearn.model_selection import GridSearchCV\n",
    "from sklearn.metrics import precision_recall_curve, auc, classification_report, precision_recall_fscore_support\n",
    "from sklearn.svm import SVC\n",
    "from sklearn import svm, preprocessing\n",
    "from sklearn.model_selection import train_test_split\n",
    "from sklearn.metrics import precision_recall_fscore_support as score"
   ]
  },
  {
   "cell_type": "code",
   "execution_count": 2,
   "metadata": {},
   "outputs": [],
   "source": [
    "path_json = '../data/raw_data'"
   ]
  },
  {
   "cell_type": "code",
   "execution_count": 3,
   "metadata": {},
   "outputs": [],
   "source": [
    "path_urls = os.path.join(path_json,'urls.txt')"
   ]
  },
  {
   "cell_type": "code",
   "execution_count": 4,
   "metadata": {},
   "outputs": [],
   "source": [
    "with open(path_urls,\"rb\") as input_file:\n",
    "    urls = input_file.readlines()"
   ]
  },
  {
   "cell_type": "code",
   "execution_count": 5,
   "metadata": {},
   "outputs": [
    {
     "data": {
      "text/plain": [
       "1008"
      ]
     },
     "execution_count": 5,
     "metadata": {},
     "output_type": "execute_result"
    }
   ],
   "source": [
    "len(urls)"
   ]
  },
  {
   "cell_type": "code",
   "execution_count": 6,
   "metadata": {},
   "outputs": [],
   "source": [
    "comment_score = {'comment':[]}"
   ]
  },
  {
   "cell_type": "code",
   "execution_count": 7,
   "metadata": {
    "scrolled": true
   },
   "outputs": [],
   "source": [
    "for index,url in enumerate(urls):\n",
    "    try:\n",
    "        path_index_json = os.path.join(path_json,'{:03d}.json'.format(index))\n",
    "        with open(path_index_json,\"rb\") as input_file:\n",
    "            data = json.load(input_file)\n",
    "        comment_score['comment'].extend(data['comment'])\n",
    "    except:\n",
    "        pass"
   ]
  },
  {
   "cell_type": "code",
   "execution_count": 8,
   "metadata": {},
   "outputs": [],
   "source": [
    "data_comment = {'comment':[],'score':[]}"
   ]
  },
  {
   "cell_type": "code",
   "execution_count": 9,
   "metadata": {},
   "outputs": [],
   "source": [
    "for i,text in enumerate(comment_score['comment']):\n",
    "    data_comment['comment'].append(text['comment'])\n",
    "    try:\n",
    "        data_comment['score'].append(text['score'])\n",
    "    except:\n",
    "        data_comment['score'].append(-100)"
   ]
  },
  {
   "cell_type": "code",
   "execution_count": 10,
   "metadata": {},
   "outputs": [],
   "source": [
    "df = pd.DataFrame(data_comment) "
   ]
  },
  {
   "cell_type": "markdown",
   "metadata": {},
   "source": [
    "import preprocessor"
   ]
  },
  {
   "cell_type": "markdown",
   "metadata": {},
   "source": [
    "from pyvi import ViTokenizer\n",
    "with open(\"/home/hieuvt/Projects/Crawl_comments/vietnamese-stopwords-dash.txt\", encoding=\"utf8\") as input_file:\n",
    "    x = input_file.readlines()\n",
    "    removetable = str.maketrans('', '', '\\n')\n",
    "    stopwords = [s.translate(removetable) for s in x]\n",
    "def prepocess(text):\n",
    "    return preprocessor.preprocess(text)\n",
    "def tokenize(text, stopwords):\n",
    "        text_segmented = ViTokenizer.tokenize(text).split()\n",
    "        text_segmented = [elem for elem in text_segmented if elem not in stopwords]\n",
    "        return ' '.join(text_segmented)"
   ]
  },
  {
   "cell_type": "markdown",
   "metadata": {},
   "source": [
    "reviews = []\n",
    "score_comment = []"
   ]
  },
  {
   "cell_type": "markdown",
   "metadata": {
    "scrolled": true
   },
   "source": [
    "for i, text in enumerate(comment_score['comment']):\n",
    "    try:\n",
    "        score_comment.append(text['score'])\n",
    "    except:\n",
    "        score_comment.append(-100)\n",
    "    a = prepocess(text['comment'])\n",
    "    reviews.append(tokenize(a,stopwords))"
   ]
  },
  {
   "cell_type": "raw",
   "metadata": {},
   "source": [
    "from sklearn.feature_extraction.text import TfidfVectorizer\n",
    "tf = TfidfVectorizer(min_df=5,max_df= 0.8,max_features=3000,sublinear_tf=True)\n",
    "tf.fit(reviews)\n",
    "X = tf.transform(reviews)"
   ]
  },
  {
   "cell_type": "markdown",
   "metadata": {},
   "source": [
    "X.shape"
   ]
  },
  {
   "cell_type": "code",
   "execution_count": 11,
   "metadata": {
    "scrolled": true
   },
   "outputs": [
    {
     "data": {
      "text/html": [
       "<div>\n",
       "<style scoped>\n",
       "    .dataframe tbody tr th:only-of-type {\n",
       "        vertical-align: middle;\n",
       "    }\n",
       "\n",
       "    .dataframe tbody tr th {\n",
       "        vertical-align: top;\n",
       "    }\n",
       "\n",
       "    .dataframe thead th {\n",
       "        text-align: right;\n",
       "    }\n",
       "</style>\n",
       "<table border=\"1\" class=\"dataframe\">\n",
       "  <thead>\n",
       "    <tr style=\"text-align: right;\">\n",
       "      <th></th>\n",
       "      <th>comment</th>\n",
       "      <th>score</th>\n",
       "    </tr>\n",
       "  </thead>\n",
       "  <tbody>\n",
       "    <tr>\n",
       "      <th>0</th>\n",
       "      <td>Quán ưu thích của mình, lâu lâu mới thấy giảm ...</td>\n",
       "      <td>10</td>\n",
       "    </tr>\n",
       "    <tr>\n",
       "      <th>1</th>\n",
       "      <td>Chân gà ngon lắm, mình hay ăn ở đây</td>\n",
       "      <td>8.0</td>\n",
       "    </tr>\n",
       "    <tr>\n",
       "      <th>2</th>\n",
       "      <td>Chân gà ngon nha cả nhà</td>\n",
       "      <td>9.6</td>\n",
       "    </tr>\n",
       "    <tr>\n",
       "      <th>3</th>\n",
       "      <td>Cuối tuần thèm chân gà, quán quen ăn gần chục ...</td>\n",
       "      <td>10</td>\n",
       "    </tr>\n",
       "    <tr>\n",
       "      <th>4</th>\n",
       "      <td>Chân gà tươi ngon, rút xương sạch sẽ, chân to ...</td>\n",
       "      <td>10</td>\n",
       "    </tr>\n",
       "    <tr>\n",
       "      <th>5</th>\n",
       "      <td>Thấy shop giảm giá tốt nên dùng thử, chân gà t...</td>\n",
       "      <td>9.0</td>\n",
       "    </tr>\n",
       "    <tr>\n",
       "      <th>6</th>\n",
       "      <td>Chân gà rút xương nhưng vẫn giòn và dai, thấm ...</td>\n",
       "      <td>9.0</td>\n",
       "    </tr>\n",
       "    <tr>\n",
       "      <th>7</th>\n",
       "      <td>Quán đang giảm 20% nhập mã NOW3TUOI giảm ...</td>\n",
       "      <td>10</td>\n",
       "    </tr>\n",
       "    <tr>\n",
       "      <th>8</th>\n",
       "      <td>Mới vừa nhận hàng xong, châm gà trắng nhách, s...</td>\n",
       "      <td>3.2</td>\n",
       "    </tr>\n",
       "    <tr>\n",
       "      <th>9</th>\n",
       "      <td>Cuối tuần rảnh rang đặt chân gà ăn chơi, chân ...</td>\n",
       "      <td>8.2</td>\n",
       "    </tr>\n",
       "    <tr>\n",
       "      <th>10</th>\n",
       "      <td>Hình sp khác, nhận hàng khác nhau quá chừng. S...</td>\n",
       "      <td>5.0</td>\n",
       "    </tr>\n",
       "    <tr>\n",
       "      <th>11</th>\n",
       "      <td>Mùa mưa tới rồi, order đồ ăn dự trữ sẵn thôi, ...</td>\n",
       "      <td>8.4</td>\n",
       "    </tr>\n",
       "    <tr>\n",
       "      <th>12</th>\n",
       "      <td>Chân gà tươi ngon làm kỹ, mùi vị khá hơn mấy q...</td>\n",
       "      <td>7.0</td>\n",
       "    </tr>\n",
       "    <tr>\n",
       "      <th>13</th>\n",
       "      <td>Mình hay mua chân gà rút xương của shop, hôm n...</td>\n",
       "      <td>9.0</td>\n",
       "    </tr>\n",
       "    <tr>\n",
       "      <th>14</th>\n",
       "      <td>Lần thứ ba mua và ko bao giờ trở lại nữa\\nMới ...</td>\n",
       "      <td>1.8</td>\n",
       "    </tr>\n",
       "    <tr>\n",
       "      <th>15</th>\n",
       "      <td>Quán bán có tâm xíu đi,chân gà nhạt hơn nước ố...</td>\n",
       "      <td>3.2</td>\n",
       "    </tr>\n",
       "    <tr>\n",
       "      <th>16</th>\n",
       "      <td>Lần 2 mua có note xin thêm hợp nước chấm shop ...</td>\n",
       "      <td>4.2</td>\n",
       "    </tr>\n",
       "    <tr>\n",
       "      <th>17</th>\n",
       "      <td>Chân gà làm ko kỹ, ko thèm cắt cả phần cùi món...</td>\n",
       "      <td>5.0</td>\n",
       "    </tr>\n",
       "    <tr>\n",
       "      <th>18</th>\n",
       "      <td>Chỉ có 125k hộp nửa kí mà chân nào cũng to béo...</td>\n",
       "      <td>8.0</td>\n",
       "    </tr>\n",
       "    <tr>\n",
       "      <th>19</th>\n",
       "      <td>Đây là lần thứ hai mình order, nhưng chân gà c...</td>\n",
       "      <td>3.8</td>\n",
       "    </tr>\n",
       "    <tr>\n",
       "      <th>20</th>\n",
       "      <td>Chân gà màu tự nhiên không giống các loại tẩy ...</td>\n",
       "      <td>8.0</td>\n",
       "    </tr>\n",
       "    <tr>\n",
       "      <th>21</th>\n",
       "      <td>Hôm nay vừa đặt 1 hộp cả nhà ăn hết ai cũng kh...</td>\n",
       "      <td>8.8</td>\n",
       "    </tr>\n",
       "    <tr>\n",
       "      <th>22</th>\n",
       "      <td>Hôm nay tự nhiên thấy thèm món này nên order v...</td>\n",
       "      <td>7.8</td>\n",
       "    </tr>\n",
       "    <tr>\n",
       "      <th>23</th>\n",
       "      <td>Trưa nóng ngán cơm mình ăn chân gà vậy, chân g...</td>\n",
       "      <td>8.0</td>\n",
       "    </tr>\n",
       "    <tr>\n",
       "      <th>24</th>\n",
       "      <td>Lần đầu shop làm hơi ngọt và ít cay, mới bán n...</td>\n",
       "      <td>8.2</td>\n",
       "    </tr>\n",
       "    <tr>\n",
       "      <th>25</th>\n",
       "      <td>Thèm chân gà mấy hôm nay mà shop nghỉ, hôm nay...</td>\n",
       "      <td>8.0</td>\n",
       "    </tr>\n",
       "    <tr>\n",
       "      <th>26</th>\n",
       "      <td>Mưa to từ chiều tới giờ chưa tạnh đành núp luô...</td>\n",
       "      <td>8.2</td>\n",
       "    </tr>\n",
       "    <tr>\n",
       "      <th>27</th>\n",
       "      <td>Ngày lễ mà trời nắng nóng quá, ở nhà ăn chân g...</td>\n",
       "      <td>8.0</td>\n",
       "    </tr>\n",
       "    <tr>\n",
       "      <th>28</th>\n",
       "      <td>Ngon. Nhìn sạch sẽ, chân gà giòn, rút xương kỹ...</td>\n",
       "      <td>8.4</td>\n",
       "    </tr>\n",
       "    <tr>\n",
       "      <th>29</th>\n",
       "      <td>Chân gà rút xương ăn rất tuyệt lại nhiều nữa, ...</td>\n",
       "      <td>8.0</td>\n",
       "    </tr>\n",
       "    <tr>\n",
       "      <th>...</th>\n",
       "      <td>...</td>\n",
       "      <td>...</td>\n",
       "    </tr>\n",
       "    <tr>\n",
       "      <th>2934</th>\n",
       "      <td>Lúc mình biết đi thì quán đã có rồi, mẹ toàn d...</td>\n",
       "      <td>7.6</td>\n",
       "    </tr>\n",
       "    <tr>\n",
       "      <th>2935</th>\n",
       "      <td>Ngon nhưng giá hơi cao\\nLúc ít lúc nhiều số lư...</td>\n",
       "      <td>5.4</td>\n",
       "    </tr>\n",
       "    <tr>\n",
       "      <th>2936</th>\n",
       "      <td>Không gian:\\n- Nhiều cây xanh nhỏ nhỏ rất xinh...</td>\n",
       "      <td>8.6</td>\n",
       "    </tr>\n",
       "    <tr>\n",
       "      <th>2937</th>\n",
       "      <td>Tuần trước nhà có việc mời nhiều khách của bố ...</td>\n",
       "      <td>5.0</td>\n",
       "    </tr>\n",
       "    <tr>\n",
       "      <th>2938</th>\n",
       "      <td>Mình đã đến đây, quán mới nên đồ uống khá chất...</td>\n",
       "      <td>7.6</td>\n",
       "    </tr>\n",
       "    <tr>\n",
       "      <th>2939</th>\n",
       "      <td>Thề là không bao giờ quay lại đây nữa. Đồ uống...</td>\n",
       "      <td>1.0</td>\n",
       "    </tr>\n",
       "    <tr>\n",
       "      <th>2940</th>\n",
       "      <td>Gọi đồ uống nóng thì nguội ngắt. Gọi bánh thì ...</td>\n",
       "      <td>4.4</td>\n",
       "    </tr>\n",
       "    <tr>\n",
       "      <th>2941</th>\n",
       "      <td>Đồ uống siêu chán lun</td>\n",
       "      <td>3.2</td>\n",
       "    </tr>\n",
       "    <tr>\n",
       "      <th>2942</th>\n",
       "      <td>Uống cafe, fast food, take away.</td>\n",
       "      <td>7.2</td>\n",
       "    </tr>\n",
       "    <tr>\n",
       "      <th>2943</th>\n",
       "      <td>+ không gian thoáng, bài trí đẹp, yên tĩnh\\n+ ...</td>\n",
       "      <td>6.0</td>\n",
       "    </tr>\n",
       "    <tr>\n",
       "      <th>2944</th>\n",
       "      <td>Đồ uống khá là ổn, vừa miệng và ko bị lợ. Khôn...</td>\n",
       "      <td>8.4</td>\n",
       "    </tr>\n",
       "    <tr>\n",
       "      <th>2945</th>\n",
       "      <td>Đây là quán cafe khá ưng ở Nam Định\\nDễ tìm, q...</td>\n",
       "      <td>7.8</td>\n",
       "    </tr>\n",
       "    <tr>\n",
       "      <th>2946</th>\n",
       "      <td>Quán nè không gian đẹp, đã đc sửa đổi nhiều so...</td>\n",
       "      <td>8.2</td>\n",
       "    </tr>\n",
       "    <tr>\n",
       "      <th>2947</th>\n",
       "      <td>Mình cùng bạn đến quán. Ấn tượng đầu tiên là q...</td>\n",
       "      <td>7.4</td>\n",
       "    </tr>\n",
       "    <tr>\n",
       "      <th>2948</th>\n",
       "      <td>Đợt tết có ăn ở đây lẩu, k biết nó có phải là ...</td>\n",
       "      <td>5.2</td>\n",
       "    </tr>\n",
       "    <tr>\n",
       "      <th>2949</th>\n",
       "      <td>Sinh nhật 20 tuổi mình tổ chức tại đây. Chỉ 2-...</td>\n",
       "      <td>7.8</td>\n",
       "    </tr>\n",
       "    <tr>\n",
       "      <th>2950</th>\n",
       "      <td>Quán yên tĩnh có điều hoà nên ngày nóng dc trố...</td>\n",
       "      <td>7.6</td>\n",
       "    </tr>\n",
       "    <tr>\n",
       "      <th>2951</th>\n",
       "      <td>Đi tìm quán để ăn 5.6 lần không thấy quán.Nhìn...</td>\n",
       "      <td>1.0</td>\n",
       "    </tr>\n",
       "    <tr>\n",
       "      <th>2952</th>\n",
       "      <td>Bún mộc khá ngon, mộc thơm, vị đậm đà. Nước dù...</td>\n",
       "      <td>7.0</td>\n",
       "    </tr>\n",
       "    <tr>\n",
       "      <th>2953</th>\n",
       "      <td>Đi ăn với các phụ huynh nên chụp được mỗi một ...</td>\n",
       "      <td>8.2</td>\n",
       "    </tr>\n",
       "    <tr>\n",
       "      <th>2954</th>\n",
       "      <td>Quán nhỏ xíu. Đc tầm 6 bàn. Nhưng phở ăn khá đ...</td>\n",
       "      <td>7.2</td>\n",
       "    </tr>\n",
       "    <tr>\n",
       "      <th>2955</th>\n",
       "      <td>Hôm nay về Nam Định, thèm hải sản mới mò thử đ...</td>\n",
       "      <td>2.0</td>\n",
       "    </tr>\n",
       "    <tr>\n",
       "      <th>2956</th>\n",
       "      <td>🥗 Hôm cậu bạn tặng cho túi nem nắm, mình là tí...</td>\n",
       "      <td>7.2</td>\n",
       "    </tr>\n",
       "    <tr>\n",
       "      <th>2957</th>\n",
       "      <td>Quán cafe khá to nằm ngay mặt đường lớn. Chủ q...</td>\n",
       "      <td>8.0</td>\n",
       "    </tr>\n",
       "    <tr>\n",
       "      <th>2958</th>\n",
       "      <td>mỗii lần có người thân ngoài bắc vào nhà mình ...</td>\n",
       "      <td>7.2</td>\n",
       "    </tr>\n",
       "    <tr>\n",
       "      <th>2959</th>\n",
       "      <td>Ấn tượng bởi hương vị của bắp rang bơ\\nNhiều l...</td>\n",
       "      <td>7.4</td>\n",
       "    </tr>\n",
       "    <tr>\n",
       "      <th>2960</th>\n",
       "      <td>Vừa qua lễ 30/4 nên có nhiều người quen đi du ...</td>\n",
       "      <td>7.0</td>\n",
       "    </tr>\n",
       "    <tr>\n",
       "      <th>2961</th>\n",
       "      <td>kẹo Sìu Châu.</td>\n",
       "      <td>6.6</td>\n",
       "    </tr>\n",
       "    <tr>\n",
       "      <th>2962</th>\n",
       "      <td>Mình thây quán này không gian rất thỏa mái tra...</td>\n",
       "      <td>7.0</td>\n",
       "    </tr>\n",
       "    <tr>\n",
       "      <th>2963</th>\n",
       "      <td>Trong cái nắng hè oi ả với nhiệt độ ngoài trời...</td>\n",
       "      <td>7.0</td>\n",
       "    </tr>\n",
       "  </tbody>\n",
       "</table>\n",
       "<p>2964 rows × 2 columns</p>\n",
       "</div>"
      ],
      "text/plain": [
       "                                                comment score\n",
       "0     Quán ưu thích của mình, lâu lâu mới thấy giảm ...    10\n",
       "1                   Chân gà ngon lắm, mình hay ăn ở đây   8.0\n",
       "2                               Chân gà ngon nha cả nhà   9.6\n",
       "3     Cuối tuần thèm chân gà, quán quen ăn gần chục ...    10\n",
       "4     Chân gà tươi ngon, rút xương sạch sẽ, chân to ...    10\n",
       "5     Thấy shop giảm giá tốt nên dùng thử, chân gà t...   9.0\n",
       "6     Chân gà rút xương nhưng vẫn giòn và dai, thấm ...   9.0\n",
       "7     Quán đang giảm 20% nhập mã NOW3TUOI giảm ...    10\n",
       "8     Mới vừa nhận hàng xong, châm gà trắng nhách, s...   3.2\n",
       "9     Cuối tuần rảnh rang đặt chân gà ăn chơi, chân ...   8.2\n",
       "10    Hình sp khác, nhận hàng khác nhau quá chừng. S...   5.0\n",
       "11    Mùa mưa tới rồi, order đồ ăn dự trữ sẵn thôi, ...   8.4\n",
       "12    Chân gà tươi ngon làm kỹ, mùi vị khá hơn mấy q...   7.0\n",
       "13    Mình hay mua chân gà rút xương của shop, hôm n...   9.0\n",
       "14    Lần thứ ba mua và ko bao giờ trở lại nữa\\nMới ...   1.8\n",
       "15    Quán bán có tâm xíu đi,chân gà nhạt hơn nước ố...   3.2\n",
       "16    Lần 2 mua có note xin thêm hợp nước chấm shop ...   4.2\n",
       "17    Chân gà làm ko kỹ, ko thèm cắt cả phần cùi món...   5.0\n",
       "18    Chỉ có 125k hộp nửa kí mà chân nào cũng to béo...   8.0\n",
       "19    Đây là lần thứ hai mình order, nhưng chân gà c...   3.8\n",
       "20    Chân gà màu tự nhiên không giống các loại tẩy ...   8.0\n",
       "21    Hôm nay vừa đặt 1 hộp cả nhà ăn hết ai cũng kh...   8.8\n",
       "22    Hôm nay tự nhiên thấy thèm món này nên order v...   7.8\n",
       "23    Trưa nóng ngán cơm mình ăn chân gà vậy, chân g...   8.0\n",
       "24    Lần đầu shop làm hơi ngọt và ít cay, mới bán n...   8.2\n",
       "25    Thèm chân gà mấy hôm nay mà shop nghỉ, hôm nay...   8.0\n",
       "26    Mưa to từ chiều tới giờ chưa tạnh đành núp luô...   8.2\n",
       "27    Ngày lễ mà trời nắng nóng quá, ở nhà ăn chân g...   8.0\n",
       "28    Ngon. Nhìn sạch sẽ, chân gà giòn, rút xương kỹ...   8.4\n",
       "29    Chân gà rút xương ăn rất tuyệt lại nhiều nữa, ...   8.0\n",
       "...                                                 ...   ...\n",
       "2934  Lúc mình biết đi thì quán đã có rồi, mẹ toàn d...   7.6\n",
       "2935  Ngon nhưng giá hơi cao\\nLúc ít lúc nhiều số lư...   5.4\n",
       "2936  Không gian:\\n- Nhiều cây xanh nhỏ nhỏ rất xinh...   8.6\n",
       "2937  Tuần trước nhà có việc mời nhiều khách của bố ...   5.0\n",
       "2938  Mình đã đến đây, quán mới nên đồ uống khá chất...   7.6\n",
       "2939  Thề là không bao giờ quay lại đây nữa. Đồ uống...   1.0\n",
       "2940  Gọi đồ uống nóng thì nguội ngắt. Gọi bánh thì ...   4.4\n",
       "2941                              Đồ uống siêu chán lun   3.2\n",
       "2942                   Uống cafe, fast food, take away.   7.2\n",
       "2943  + không gian thoáng, bài trí đẹp, yên tĩnh\\n+ ...   6.0\n",
       "2944  Đồ uống khá là ổn, vừa miệng và ko bị lợ. Khôn...   8.4\n",
       "2945  Đây là quán cafe khá ưng ở Nam Định\\nDễ tìm, q...   7.8\n",
       "2946  Quán nè không gian đẹp, đã đc sửa đổi nhiều so...   8.2\n",
       "2947  Mình cùng bạn đến quán. Ấn tượng đầu tiên là q...   7.4\n",
       "2948  Đợt tết có ăn ở đây lẩu, k biết nó có phải là ...   5.2\n",
       "2949  Sinh nhật 20 tuổi mình tổ chức tại đây. Chỉ 2-...   7.8\n",
       "2950  Quán yên tĩnh có điều hoà nên ngày nóng dc trố...   7.6\n",
       "2951  Đi tìm quán để ăn 5.6 lần không thấy quán.Nhìn...   1.0\n",
       "2952  Bún mộc khá ngon, mộc thơm, vị đậm đà. Nước dù...   7.0\n",
       "2953  Đi ăn với các phụ huynh nên chụp được mỗi một ...   8.2\n",
       "2954  Quán nhỏ xíu. Đc tầm 6 bàn. Nhưng phở ăn khá đ...   7.2\n",
       "2955  Hôm nay về Nam Định, thèm hải sản mới mò thử đ...   2.0\n",
       "2956  🥗 Hôm cậu bạn tặng cho túi nem nắm, mình là tí...   7.2\n",
       "2957  Quán cafe khá to nằm ngay mặt đường lớn. Chủ q...   8.0\n",
       "2958  mỗii lần có người thân ngoài bắc vào nhà mình ...   7.2\n",
       "2959  Ấn tượng bởi hương vị của bắp rang bơ\\nNhiều l...   7.4\n",
       "2960  Vừa qua lễ 30/4 nên có nhiều người quen đi du ...   7.0\n",
       "2961                                      kẹo Sìu Châu.   6.6\n",
       "2962  Mình thây quán này không gian rất thỏa mái tra...   7.0\n",
       "2963  Trong cái nắng hè oi ả với nhiệt độ ngoài trời...   7.0\n",
       "\n",
       "[2964 rows x 2 columns]"
      ]
     },
     "execution_count": 11,
     "metadata": {},
     "output_type": "execute_result"
    }
   ],
   "source": [
    "df"
   ]
  },
  {
   "cell_type": "code",
   "execution_count": 12,
   "metadata": {},
   "outputs": [
    {
     "data": {
      "text/html": [
       "<div>\n",
       "<style scoped>\n",
       "    .dataframe tbody tr th:only-of-type {\n",
       "        vertical-align: middle;\n",
       "    }\n",
       "\n",
       "    .dataframe tbody tr th {\n",
       "        vertical-align: top;\n",
       "    }\n",
       "\n",
       "    .dataframe thead th {\n",
       "        text-align: right;\n",
       "    }\n",
       "</style>\n",
       "<table border=\"1\" class=\"dataframe\">\n",
       "  <thead>\n",
       "    <tr style=\"text-align: right;\">\n",
       "      <th></th>\n",
       "      <th>comment</th>\n",
       "      <th>score</th>\n",
       "    </tr>\n",
       "  </thead>\n",
       "  <tbody>\n",
       "    <tr>\n",
       "      <th>843</th>\n",
       "      <td>Món ăn:\\n- Ca cao dừa là món must-try của quán...</td>\n",
       "      <td>-100</td>\n",
       "    </tr>\n",
       "    <tr>\n",
       "      <th>1717</th>\n",
       "      <td>Ở gần nhà có quán cafe này. Đến tầm 6h thì quá...</td>\n",
       "      <td>-100</td>\n",
       "    </tr>\n",
       "  </tbody>\n",
       "</table>\n",
       "</div>"
      ],
      "text/plain": [
       "                                                comment score\n",
       "843   Món ăn:\\n- Ca cao dừa là món must-try của quán...  -100\n",
       "1717  Ở gần nhà có quán cafe này. Đến tầm 6h thì quá...  -100"
      ]
     },
     "execution_count": 12,
     "metadata": {},
     "output_type": "execute_result"
    }
   ],
   "source": [
    "df[df['score'] == -100]"
   ]
  },
  {
   "cell_type": "markdown",
   "metadata": {},
   "source": [
    "df.loc[df.score == -100,'score'] = 8"
   ]
  },
  {
   "cell_type": "code",
   "execution_count": 13,
   "metadata": {},
   "outputs": [
    {
     "data": {
      "text/plain": [
       "comment    Món ăn:\\n- Ca cao dừa là món must-try của quán...\n",
       "score                                                   -100\n",
       "Name: 843, dtype: object"
      ]
     },
     "execution_count": 13,
     "metadata": {},
     "output_type": "execute_result"
    }
   ],
   "source": [
    "df.iloc[843]"
   ]
  },
  {
   "cell_type": "code",
   "execution_count": 14,
   "metadata": {},
   "outputs": [
    {
     "data": {
      "text/plain": [
       "comment    Ở gần nhà có quán cafe này. Đến tầm 6h thì quá...\n",
       "score                                                   -100\n",
       "Name: 1717, dtype: object"
      ]
     },
     "execution_count": 14,
     "metadata": {},
     "output_type": "execute_result"
    }
   ],
   "source": [
    "df.iloc[1717]"
   ]
  },
  {
   "cell_type": "code",
   "execution_count": 15,
   "metadata": {},
   "outputs": [],
   "source": [
    "df.loc[df.score == -100,'score'][843] = 4"
   ]
  },
  {
   "cell_type": "code",
   "execution_count": 16,
   "metadata": {},
   "outputs": [],
   "source": [
    "df.loc[df.score == -100,'score'][1717] = 9"
   ]
  },
  {
   "cell_type": "code",
   "execution_count": 17,
   "metadata": {},
   "outputs": [],
   "source": [
    "df.iloc[843].score = 4"
   ]
  },
  {
   "cell_type": "code",
   "execution_count": 18,
   "metadata": {},
   "outputs": [],
   "source": [
    "df.iloc[1717].score = 9"
   ]
  },
  {
   "cell_type": "code",
   "execution_count": 19,
   "metadata": {},
   "outputs": [
    {
     "data": {
      "text/plain": [
       "Series([], Name: score, dtype: object)"
      ]
     },
     "execution_count": 19,
     "metadata": {},
     "output_type": "execute_result"
    }
   ],
   "source": [
    "df.loc[df.score == -100,'score']"
   ]
  },
  {
   "cell_type": "code",
   "execution_count": 20,
   "metadata": {},
   "outputs": [
    {
     "data": {
      "text/plain": [
       "True"
      ]
     },
     "execution_count": 20,
     "metadata": {},
     "output_type": "execute_result"
    }
   ],
   "source": [
    "int(df['score'].iloc[0]) >= 6.0"
   ]
  },
  {
   "cell_type": "code",
   "execution_count": 21,
   "metadata": {},
   "outputs": [
    {
     "data": {
      "text/plain": [
       "array(['10', '8.0', '9.6', ..., '6.6', '7.0', '7.0'], dtype=object)"
      ]
     },
     "execution_count": 21,
     "metadata": {},
     "output_type": "execute_result"
    }
   ],
   "source": [
    "df['score'].values"
   ]
  },
  {
   "cell_type": "code",
   "execution_count": 22,
   "metadata": {},
   "outputs": [],
   "source": [
    "for i,ele in enumerate(df['score'].values):\n",
    "    if (float(ele) >= 6.0):\n",
    "        df.iloc[i].score = 1\n",
    "    else:\n",
    "        df.iloc[i].score = 0"
   ]
  },
  {
   "cell_type": "code",
   "execution_count": 23,
   "metadata": {
    "scrolled": true
   },
   "outputs": [
    {
     "data": {
      "text/html": [
       "<div>\n",
       "<style scoped>\n",
       "    .dataframe tbody tr th:only-of-type {\n",
       "        vertical-align: middle;\n",
       "    }\n",
       "\n",
       "    .dataframe tbody tr th {\n",
       "        vertical-align: top;\n",
       "    }\n",
       "\n",
       "    .dataframe thead th {\n",
       "        text-align: right;\n",
       "    }\n",
       "</style>\n",
       "<table border=\"1\" class=\"dataframe\">\n",
       "  <thead>\n",
       "    <tr style=\"text-align: right;\">\n",
       "      <th></th>\n",
       "      <th>comment</th>\n",
       "      <th>score</th>\n",
       "    </tr>\n",
       "  </thead>\n",
       "  <tbody>\n",
       "    <tr>\n",
       "      <th>0</th>\n",
       "      <td>Quán ưu thích của mình, lâu lâu mới thấy giảm ...</td>\n",
       "      <td>1</td>\n",
       "    </tr>\n",
       "    <tr>\n",
       "      <th>1</th>\n",
       "      <td>Chân gà ngon lắm, mình hay ăn ở đây</td>\n",
       "      <td>1</td>\n",
       "    </tr>\n",
       "    <tr>\n",
       "      <th>2</th>\n",
       "      <td>Chân gà ngon nha cả nhà</td>\n",
       "      <td>1</td>\n",
       "    </tr>\n",
       "    <tr>\n",
       "      <th>3</th>\n",
       "      <td>Cuối tuần thèm chân gà, quán quen ăn gần chục ...</td>\n",
       "      <td>1</td>\n",
       "    </tr>\n",
       "    <tr>\n",
       "      <th>4</th>\n",
       "      <td>Chân gà tươi ngon, rút xương sạch sẽ, chân to ...</td>\n",
       "      <td>1</td>\n",
       "    </tr>\n",
       "    <tr>\n",
       "      <th>5</th>\n",
       "      <td>Thấy shop giảm giá tốt nên dùng thử, chân gà t...</td>\n",
       "      <td>1</td>\n",
       "    </tr>\n",
       "    <tr>\n",
       "      <th>6</th>\n",
       "      <td>Chân gà rút xương nhưng vẫn giòn và dai, thấm ...</td>\n",
       "      <td>1</td>\n",
       "    </tr>\n",
       "    <tr>\n",
       "      <th>7</th>\n",
       "      <td>Quán đang giảm 20% nhập mã NOW3TUOI giảm ...</td>\n",
       "      <td>1</td>\n",
       "    </tr>\n",
       "    <tr>\n",
       "      <th>8</th>\n",
       "      <td>Mới vừa nhận hàng xong, châm gà trắng nhách, s...</td>\n",
       "      <td>0</td>\n",
       "    </tr>\n",
       "    <tr>\n",
       "      <th>9</th>\n",
       "      <td>Cuối tuần rảnh rang đặt chân gà ăn chơi, chân ...</td>\n",
       "      <td>1</td>\n",
       "    </tr>\n",
       "    <tr>\n",
       "      <th>10</th>\n",
       "      <td>Hình sp khác, nhận hàng khác nhau quá chừng. S...</td>\n",
       "      <td>0</td>\n",
       "    </tr>\n",
       "    <tr>\n",
       "      <th>11</th>\n",
       "      <td>Mùa mưa tới rồi, order đồ ăn dự trữ sẵn thôi, ...</td>\n",
       "      <td>1</td>\n",
       "    </tr>\n",
       "    <tr>\n",
       "      <th>12</th>\n",
       "      <td>Chân gà tươi ngon làm kỹ, mùi vị khá hơn mấy q...</td>\n",
       "      <td>1</td>\n",
       "    </tr>\n",
       "    <tr>\n",
       "      <th>13</th>\n",
       "      <td>Mình hay mua chân gà rút xương của shop, hôm n...</td>\n",
       "      <td>1</td>\n",
       "    </tr>\n",
       "    <tr>\n",
       "      <th>14</th>\n",
       "      <td>Lần thứ ba mua và ko bao giờ trở lại nữa\\nMới ...</td>\n",
       "      <td>0</td>\n",
       "    </tr>\n",
       "    <tr>\n",
       "      <th>15</th>\n",
       "      <td>Quán bán có tâm xíu đi,chân gà nhạt hơn nước ố...</td>\n",
       "      <td>0</td>\n",
       "    </tr>\n",
       "    <tr>\n",
       "      <th>16</th>\n",
       "      <td>Lần 2 mua có note xin thêm hợp nước chấm shop ...</td>\n",
       "      <td>0</td>\n",
       "    </tr>\n",
       "    <tr>\n",
       "      <th>17</th>\n",
       "      <td>Chân gà làm ko kỹ, ko thèm cắt cả phần cùi món...</td>\n",
       "      <td>0</td>\n",
       "    </tr>\n",
       "    <tr>\n",
       "      <th>18</th>\n",
       "      <td>Chỉ có 125k hộp nửa kí mà chân nào cũng to béo...</td>\n",
       "      <td>1</td>\n",
       "    </tr>\n",
       "    <tr>\n",
       "      <th>19</th>\n",
       "      <td>Đây là lần thứ hai mình order, nhưng chân gà c...</td>\n",
       "      <td>0</td>\n",
       "    </tr>\n",
       "    <tr>\n",
       "      <th>20</th>\n",
       "      <td>Chân gà màu tự nhiên không giống các loại tẩy ...</td>\n",
       "      <td>1</td>\n",
       "    </tr>\n",
       "    <tr>\n",
       "      <th>21</th>\n",
       "      <td>Hôm nay vừa đặt 1 hộp cả nhà ăn hết ai cũng kh...</td>\n",
       "      <td>1</td>\n",
       "    </tr>\n",
       "    <tr>\n",
       "      <th>22</th>\n",
       "      <td>Hôm nay tự nhiên thấy thèm món này nên order v...</td>\n",
       "      <td>1</td>\n",
       "    </tr>\n",
       "    <tr>\n",
       "      <th>23</th>\n",
       "      <td>Trưa nóng ngán cơm mình ăn chân gà vậy, chân g...</td>\n",
       "      <td>1</td>\n",
       "    </tr>\n",
       "    <tr>\n",
       "      <th>24</th>\n",
       "      <td>Lần đầu shop làm hơi ngọt và ít cay, mới bán n...</td>\n",
       "      <td>1</td>\n",
       "    </tr>\n",
       "    <tr>\n",
       "      <th>25</th>\n",
       "      <td>Thèm chân gà mấy hôm nay mà shop nghỉ, hôm nay...</td>\n",
       "      <td>1</td>\n",
       "    </tr>\n",
       "    <tr>\n",
       "      <th>26</th>\n",
       "      <td>Mưa to từ chiều tới giờ chưa tạnh đành núp luô...</td>\n",
       "      <td>1</td>\n",
       "    </tr>\n",
       "    <tr>\n",
       "      <th>27</th>\n",
       "      <td>Ngày lễ mà trời nắng nóng quá, ở nhà ăn chân g...</td>\n",
       "      <td>1</td>\n",
       "    </tr>\n",
       "    <tr>\n",
       "      <th>28</th>\n",
       "      <td>Ngon. Nhìn sạch sẽ, chân gà giòn, rút xương kỹ...</td>\n",
       "      <td>1</td>\n",
       "    </tr>\n",
       "    <tr>\n",
       "      <th>29</th>\n",
       "      <td>Chân gà rút xương ăn rất tuyệt lại nhiều nữa, ...</td>\n",
       "      <td>1</td>\n",
       "    </tr>\n",
       "    <tr>\n",
       "      <th>...</th>\n",
       "      <td>...</td>\n",
       "      <td>...</td>\n",
       "    </tr>\n",
       "    <tr>\n",
       "      <th>2934</th>\n",
       "      <td>Lúc mình biết đi thì quán đã có rồi, mẹ toàn d...</td>\n",
       "      <td>1</td>\n",
       "    </tr>\n",
       "    <tr>\n",
       "      <th>2935</th>\n",
       "      <td>Ngon nhưng giá hơi cao\\nLúc ít lúc nhiều số lư...</td>\n",
       "      <td>0</td>\n",
       "    </tr>\n",
       "    <tr>\n",
       "      <th>2936</th>\n",
       "      <td>Không gian:\\n- Nhiều cây xanh nhỏ nhỏ rất xinh...</td>\n",
       "      <td>1</td>\n",
       "    </tr>\n",
       "    <tr>\n",
       "      <th>2937</th>\n",
       "      <td>Tuần trước nhà có việc mời nhiều khách của bố ...</td>\n",
       "      <td>0</td>\n",
       "    </tr>\n",
       "    <tr>\n",
       "      <th>2938</th>\n",
       "      <td>Mình đã đến đây, quán mới nên đồ uống khá chất...</td>\n",
       "      <td>1</td>\n",
       "    </tr>\n",
       "    <tr>\n",
       "      <th>2939</th>\n",
       "      <td>Thề là không bao giờ quay lại đây nữa. Đồ uống...</td>\n",
       "      <td>0</td>\n",
       "    </tr>\n",
       "    <tr>\n",
       "      <th>2940</th>\n",
       "      <td>Gọi đồ uống nóng thì nguội ngắt. Gọi bánh thì ...</td>\n",
       "      <td>0</td>\n",
       "    </tr>\n",
       "    <tr>\n",
       "      <th>2941</th>\n",
       "      <td>Đồ uống siêu chán lun</td>\n",
       "      <td>0</td>\n",
       "    </tr>\n",
       "    <tr>\n",
       "      <th>2942</th>\n",
       "      <td>Uống cafe, fast food, take away.</td>\n",
       "      <td>1</td>\n",
       "    </tr>\n",
       "    <tr>\n",
       "      <th>2943</th>\n",
       "      <td>+ không gian thoáng, bài trí đẹp, yên tĩnh\\n+ ...</td>\n",
       "      <td>1</td>\n",
       "    </tr>\n",
       "    <tr>\n",
       "      <th>2944</th>\n",
       "      <td>Đồ uống khá là ổn, vừa miệng và ko bị lợ. Khôn...</td>\n",
       "      <td>1</td>\n",
       "    </tr>\n",
       "    <tr>\n",
       "      <th>2945</th>\n",
       "      <td>Đây là quán cafe khá ưng ở Nam Định\\nDễ tìm, q...</td>\n",
       "      <td>1</td>\n",
       "    </tr>\n",
       "    <tr>\n",
       "      <th>2946</th>\n",
       "      <td>Quán nè không gian đẹp, đã đc sửa đổi nhiều so...</td>\n",
       "      <td>1</td>\n",
       "    </tr>\n",
       "    <tr>\n",
       "      <th>2947</th>\n",
       "      <td>Mình cùng bạn đến quán. Ấn tượng đầu tiên là q...</td>\n",
       "      <td>1</td>\n",
       "    </tr>\n",
       "    <tr>\n",
       "      <th>2948</th>\n",
       "      <td>Đợt tết có ăn ở đây lẩu, k biết nó có phải là ...</td>\n",
       "      <td>0</td>\n",
       "    </tr>\n",
       "    <tr>\n",
       "      <th>2949</th>\n",
       "      <td>Sinh nhật 20 tuổi mình tổ chức tại đây. Chỉ 2-...</td>\n",
       "      <td>1</td>\n",
       "    </tr>\n",
       "    <tr>\n",
       "      <th>2950</th>\n",
       "      <td>Quán yên tĩnh có điều hoà nên ngày nóng dc trố...</td>\n",
       "      <td>1</td>\n",
       "    </tr>\n",
       "    <tr>\n",
       "      <th>2951</th>\n",
       "      <td>Đi tìm quán để ăn 5.6 lần không thấy quán.Nhìn...</td>\n",
       "      <td>0</td>\n",
       "    </tr>\n",
       "    <tr>\n",
       "      <th>2952</th>\n",
       "      <td>Bún mộc khá ngon, mộc thơm, vị đậm đà. Nước dù...</td>\n",
       "      <td>1</td>\n",
       "    </tr>\n",
       "    <tr>\n",
       "      <th>2953</th>\n",
       "      <td>Đi ăn với các phụ huynh nên chụp được mỗi một ...</td>\n",
       "      <td>1</td>\n",
       "    </tr>\n",
       "    <tr>\n",
       "      <th>2954</th>\n",
       "      <td>Quán nhỏ xíu. Đc tầm 6 bàn. Nhưng phở ăn khá đ...</td>\n",
       "      <td>1</td>\n",
       "    </tr>\n",
       "    <tr>\n",
       "      <th>2955</th>\n",
       "      <td>Hôm nay về Nam Định, thèm hải sản mới mò thử đ...</td>\n",
       "      <td>0</td>\n",
       "    </tr>\n",
       "    <tr>\n",
       "      <th>2956</th>\n",
       "      <td>🥗 Hôm cậu bạn tặng cho túi nem nắm, mình là tí...</td>\n",
       "      <td>1</td>\n",
       "    </tr>\n",
       "    <tr>\n",
       "      <th>2957</th>\n",
       "      <td>Quán cafe khá to nằm ngay mặt đường lớn. Chủ q...</td>\n",
       "      <td>1</td>\n",
       "    </tr>\n",
       "    <tr>\n",
       "      <th>2958</th>\n",
       "      <td>mỗii lần có người thân ngoài bắc vào nhà mình ...</td>\n",
       "      <td>1</td>\n",
       "    </tr>\n",
       "    <tr>\n",
       "      <th>2959</th>\n",
       "      <td>Ấn tượng bởi hương vị của bắp rang bơ\\nNhiều l...</td>\n",
       "      <td>1</td>\n",
       "    </tr>\n",
       "    <tr>\n",
       "      <th>2960</th>\n",
       "      <td>Vừa qua lễ 30/4 nên có nhiều người quen đi du ...</td>\n",
       "      <td>1</td>\n",
       "    </tr>\n",
       "    <tr>\n",
       "      <th>2961</th>\n",
       "      <td>kẹo Sìu Châu.</td>\n",
       "      <td>1</td>\n",
       "    </tr>\n",
       "    <tr>\n",
       "      <th>2962</th>\n",
       "      <td>Mình thây quán này không gian rất thỏa mái tra...</td>\n",
       "      <td>1</td>\n",
       "    </tr>\n",
       "    <tr>\n",
       "      <th>2963</th>\n",
       "      <td>Trong cái nắng hè oi ả với nhiệt độ ngoài trời...</td>\n",
       "      <td>1</td>\n",
       "    </tr>\n",
       "  </tbody>\n",
       "</table>\n",
       "<p>2964 rows × 2 columns</p>\n",
       "</div>"
      ],
      "text/plain": [
       "                                                comment score\n",
       "0     Quán ưu thích của mình, lâu lâu mới thấy giảm ...     1\n",
       "1                   Chân gà ngon lắm, mình hay ăn ở đây     1\n",
       "2                               Chân gà ngon nha cả nhà     1\n",
       "3     Cuối tuần thèm chân gà, quán quen ăn gần chục ...     1\n",
       "4     Chân gà tươi ngon, rút xương sạch sẽ, chân to ...     1\n",
       "5     Thấy shop giảm giá tốt nên dùng thử, chân gà t...     1\n",
       "6     Chân gà rút xương nhưng vẫn giòn và dai, thấm ...     1\n",
       "7     Quán đang giảm 20% nhập mã NOW3TUOI giảm ...     1\n",
       "8     Mới vừa nhận hàng xong, châm gà trắng nhách, s...     0\n",
       "9     Cuối tuần rảnh rang đặt chân gà ăn chơi, chân ...     1\n",
       "10    Hình sp khác, nhận hàng khác nhau quá chừng. S...     0\n",
       "11    Mùa mưa tới rồi, order đồ ăn dự trữ sẵn thôi, ...     1\n",
       "12    Chân gà tươi ngon làm kỹ, mùi vị khá hơn mấy q...     1\n",
       "13    Mình hay mua chân gà rút xương của shop, hôm n...     1\n",
       "14    Lần thứ ba mua và ko bao giờ trở lại nữa\\nMới ...     0\n",
       "15    Quán bán có tâm xíu đi,chân gà nhạt hơn nước ố...     0\n",
       "16    Lần 2 mua có note xin thêm hợp nước chấm shop ...     0\n",
       "17    Chân gà làm ko kỹ, ko thèm cắt cả phần cùi món...     0\n",
       "18    Chỉ có 125k hộp nửa kí mà chân nào cũng to béo...     1\n",
       "19    Đây là lần thứ hai mình order, nhưng chân gà c...     0\n",
       "20    Chân gà màu tự nhiên không giống các loại tẩy ...     1\n",
       "21    Hôm nay vừa đặt 1 hộp cả nhà ăn hết ai cũng kh...     1\n",
       "22    Hôm nay tự nhiên thấy thèm món này nên order v...     1\n",
       "23    Trưa nóng ngán cơm mình ăn chân gà vậy, chân g...     1\n",
       "24    Lần đầu shop làm hơi ngọt và ít cay, mới bán n...     1\n",
       "25    Thèm chân gà mấy hôm nay mà shop nghỉ, hôm nay...     1\n",
       "26    Mưa to từ chiều tới giờ chưa tạnh đành núp luô...     1\n",
       "27    Ngày lễ mà trời nắng nóng quá, ở nhà ăn chân g...     1\n",
       "28    Ngon. Nhìn sạch sẽ, chân gà giòn, rút xương kỹ...     1\n",
       "29    Chân gà rút xương ăn rất tuyệt lại nhiều nữa, ...     1\n",
       "...                                                 ...   ...\n",
       "2934  Lúc mình biết đi thì quán đã có rồi, mẹ toàn d...     1\n",
       "2935  Ngon nhưng giá hơi cao\\nLúc ít lúc nhiều số lư...     0\n",
       "2936  Không gian:\\n- Nhiều cây xanh nhỏ nhỏ rất xinh...     1\n",
       "2937  Tuần trước nhà có việc mời nhiều khách của bố ...     0\n",
       "2938  Mình đã đến đây, quán mới nên đồ uống khá chất...     1\n",
       "2939  Thề là không bao giờ quay lại đây nữa. Đồ uống...     0\n",
       "2940  Gọi đồ uống nóng thì nguội ngắt. Gọi bánh thì ...     0\n",
       "2941                              Đồ uống siêu chán lun     0\n",
       "2942                   Uống cafe, fast food, take away.     1\n",
       "2943  + không gian thoáng, bài trí đẹp, yên tĩnh\\n+ ...     1\n",
       "2944  Đồ uống khá là ổn, vừa miệng và ko bị lợ. Khôn...     1\n",
       "2945  Đây là quán cafe khá ưng ở Nam Định\\nDễ tìm, q...     1\n",
       "2946  Quán nè không gian đẹp, đã đc sửa đổi nhiều so...     1\n",
       "2947  Mình cùng bạn đến quán. Ấn tượng đầu tiên là q...     1\n",
       "2948  Đợt tết có ăn ở đây lẩu, k biết nó có phải là ...     0\n",
       "2949  Sinh nhật 20 tuổi mình tổ chức tại đây. Chỉ 2-...     1\n",
       "2950  Quán yên tĩnh có điều hoà nên ngày nóng dc trố...     1\n",
       "2951  Đi tìm quán để ăn 5.6 lần không thấy quán.Nhìn...     0\n",
       "2952  Bún mộc khá ngon, mộc thơm, vị đậm đà. Nước dù...     1\n",
       "2953  Đi ăn với các phụ huynh nên chụp được mỗi một ...     1\n",
       "2954  Quán nhỏ xíu. Đc tầm 6 bàn. Nhưng phở ăn khá đ...     1\n",
       "2955  Hôm nay về Nam Định, thèm hải sản mới mò thử đ...     0\n",
       "2956  🥗 Hôm cậu bạn tặng cho túi nem nắm, mình là tí...     1\n",
       "2957  Quán cafe khá to nằm ngay mặt đường lớn. Chủ q...     1\n",
       "2958  mỗii lần có người thân ngoài bắc vào nhà mình ...     1\n",
       "2959  Ấn tượng bởi hương vị của bắp rang bơ\\nNhiều l...     1\n",
       "2960  Vừa qua lễ 30/4 nên có nhiều người quen đi du ...     1\n",
       "2961                                      kẹo Sìu Châu.     1\n",
       "2962  Mình thây quán này không gian rất thỏa mái tra...     1\n",
       "2963  Trong cái nắng hè oi ả với nhiệt độ ngoài trời...     1\n",
       "\n",
       "[2964 rows x 2 columns]"
      ]
     },
     "execution_count": 23,
     "metadata": {},
     "output_type": "execute_result"
    }
   ],
   "source": [
    "df"
   ]
  },
  {
   "cell_type": "code",
   "execution_count": 24,
   "metadata": {},
   "outputs": [],
   "source": [
    "import matplotlib \n",
    "matplotlib.use('Agg')\n",
    "import matplotlib.pyplot as plt"
   ]
  },
  {
   "cell_type": "code",
   "execution_count": 25,
   "metadata": {},
   "outputs": [],
   "source": [
    "numpy_label = df['score'].values"
   ]
  },
  {
   "cell_type": "code",
   "execution_count": 26,
   "metadata": {},
   "outputs": [],
   "source": [
    "plt.xlabel(\"number\")\n",
    "plt.ylabel(\"name_class\")\n",
    "plt.title(\"su phan bo cua cac class\")\n",
    "plt.hist(numpy_label,rwidth = 1,align =\"left\")\n",
    "plt.savefig('demo.png')"
   ]
  },
  {
   "cell_type": "code",
   "execution_count": 27,
   "metadata": {},
   "outputs": [],
   "source": [
    "with open(\"/home/hieuvt/Projects/Crawl_comments/vietnamese-stopwords-dash.txt\", encoding=\"utf8\") as input_file:\n",
    "    x = input_file.readlines()\n",
    "    removetable = str.maketrans('', '', '\\n')\n",
    "    stopwords = [s.translate(removetable) for s in x]\n",
    "def prepocess(text):\n",
    "    return preprocessor.preprocess(text)\n",
    "def tokenize(text, stopwords):\n",
    "        text_segmented = ViTokenizer.tokenize(text).split()\n",
    "        text_segmented = [elem for elem in text_segmented if elem not in stopwords]\n",
    "        return ' '.join(text_segmented)"
   ]
  },
  {
   "cell_type": "code",
   "execution_count": 28,
   "metadata": {},
   "outputs": [],
   "source": [
    "reviews = []\n",
    "score_comment = []"
   ]
  },
  {
   "cell_type": "code",
   "execution_count": 29,
   "metadata": {},
   "outputs": [],
   "source": [
    "for i, text in enumerate(df['comment']):\n",
    "#     score_comment.append(text['score'])\n",
    "    a = prepocess(text)\n",
    "    reviews.append(tokenize(a,stopwords))"
   ]
  },
  {
   "cell_type": "code",
   "execution_count": 30,
   "metadata": {},
   "outputs": [],
   "source": [
    "from sklearn.feature_extraction.text import TfidfVectorizer\n",
    "tf = TfidfVectorizer(min_df=5,max_df= 0.8,sublinear_tf=True)\n",
    "tf.fit(reviews)\n",
    "X = tf.transform(reviews)"
   ]
  },
  {
   "cell_type": "code",
   "execution_count": 31,
   "metadata": {},
   "outputs": [],
   "source": [
    "Y = X.todense().A"
   ]
  },
  {
   "cell_type": "code",
   "execution_count": 32,
   "metadata": {},
   "outputs": [
    {
     "data": {
      "text/plain": [
       "numpy.ndarray"
      ]
     },
     "execution_count": 32,
     "metadata": {},
     "output_type": "execute_result"
    }
   ],
   "source": [
    "type(Y)"
   ]
  },
  {
   "cell_type": "code",
   "execution_count": 33,
   "metadata": {},
   "outputs": [],
   "source": [
    "X_label = df['score'].values"
   ]
  },
  {
   "cell_type": "code",
   "execution_count": 34,
   "metadata": {},
   "outputs": [
    {
     "data": {
      "text/plain": [
       "numpy.ndarray"
      ]
     },
     "execution_count": 34,
     "metadata": {},
     "output_type": "execute_result"
    }
   ],
   "source": [
    "type(X_label)"
   ]
  },
  {
   "cell_type": "code",
   "execution_count": 35,
   "metadata": {},
   "outputs": [],
   "source": [
    "X_train,X_test, Y_train, Y_test = train_test_split(Y,X_label,test_size = 0.2, random_state = 42)"
   ]
  },
  {
   "cell_type": "code",
   "execution_count": 36,
   "metadata": {},
   "outputs": [
    {
     "data": {
      "text/plain": [
       "array([0, 1], dtype=object)"
      ]
     },
     "execution_count": 36,
     "metadata": {},
     "output_type": "execute_result"
    }
   ],
   "source": [
    "import numpy as np\n",
    "np.unique(Y_train)"
   ]
  },
  {
   "cell_type": "code",
   "execution_count": 37,
   "metadata": {},
   "outputs": [
    {
     "data": {
      "text/plain": [
       "(2371,)"
      ]
     },
     "execution_count": 37,
     "metadata": {},
     "output_type": "execute_result"
    }
   ],
   "source": [
    "Y_train.shape"
   ]
  },
  {
   "cell_type": "code",
   "execution_count": 38,
   "metadata": {},
   "outputs": [],
   "source": [
    "test = pd.DataFrame()\n",
    "test['y'] = Y_train"
   ]
  },
  {
   "cell_type": "code",
   "execution_count": 39,
   "metadata": {},
   "outputs": [
    {
     "data": {
      "text/plain": [
       "0.0"
      ]
     },
     "execution_count": 39,
     "metadata": {},
     "output_type": "execute_result"
    }
   ],
   "source": [
    "test.y.isnull().mean()"
   ]
  },
  {
   "cell_type": "code",
   "execution_count": 40,
   "metadata": {},
   "outputs": [
    {
     "data": {
      "text/plain": [
       "array([1, 0], dtype=object)"
      ]
     },
     "execution_count": 40,
     "metadata": {},
     "output_type": "execute_result"
    }
   ],
   "source": [
    "test.y.unique()"
   ]
  },
  {
   "cell_type": "code",
   "execution_count": 41,
   "metadata": {},
   "outputs": [],
   "source": [
    "Y_train = Y_train.astype(int)"
   ]
  },
  {
   "cell_type": "code",
   "execution_count": 42,
   "metadata": {},
   "outputs": [
    {
     "data": {
      "text/plain": [
       "array([[0.        , 0.        , 0.        , ..., 0.        , 0.        ,\n",
       "        0.        ],\n",
       "       [0.        , 0.        , 0.        , ..., 0.        , 0.        ,\n",
       "        0.        ],\n",
       "       [0.        , 0.        , 0.        , ..., 0.        , 0.        ,\n",
       "        0.        ],\n",
       "       ...,\n",
       "       [0.        , 0.        , 0.        , ..., 0.        , 0.        ,\n",
       "        0.        ],\n",
       "       [0.        , 0.        , 0.        , ..., 0.08550721, 0.        ,\n",
       "        0.        ],\n",
       "       [0.        , 0.        , 0.        , ..., 0.        , 0.        ,\n",
       "        0.        ]])"
      ]
     },
     "execution_count": 42,
     "metadata": {},
     "output_type": "execute_result"
    }
   ],
   "source": [
    "X_train"
   ]
  },
  {
   "cell_type": "code",
   "execution_count": 43,
   "metadata": {},
   "outputs": [
    {
     "data": {
      "text/plain": [
       "array([1, 1, 1, ..., 1, 1, 0])"
      ]
     },
     "execution_count": 43,
     "metadata": {},
     "output_type": "execute_result"
    }
   ],
   "source": [
    "Y_train"
   ]
  },
  {
   "cell_type": "code",
   "execution_count": 44,
   "metadata": {},
   "outputs": [
    {
     "name": "stdout",
     "output_type": "stream",
     "text": [
      "[LibSVM][340 893]\n"
     ]
    }
   ],
   "source": [
    "clf = svm.SVC(verbose=True, kernel='linear', probability=True, random_state=0, cache_size=2000, class_weight='balanced')\n",
    "clf.fit(X_train,Y_train)\n",
    "print(clf.n_support_)"
   ]
  },
  {
   "cell_type": "code",
   "execution_count": 45,
   "metadata": {},
   "outputs": [],
   "source": [
    "Y_pred = clf.predict(X_test)"
   ]
  },
  {
   "cell_type": "code",
   "execution_count": 49,
   "metadata": {},
   "outputs": [],
   "source": [
    "Y_test = Y_test.astype(int)"
   ]
  },
  {
   "cell_type": "code",
   "execution_count": 50,
   "metadata": {},
   "outputs": [
    {
     "name": "stdout",
     "output_type": "stream",
     "text": [
      "precision: [0.65034965 0.92666667]\n",
      "recall: [0.73809524 0.89293362]\n",
      "fscore: [0.69144981 0.90948746]\n",
      "support: [126 467]\n"
     ]
    }
   ],
   "source": [
    "precision, recall, fscore, support = score(Y_test, Y_pred)\n",
    "\n",
    "print('precision: {}'.format(precision))\n",
    "print('recall: {}'.format(recall))\n",
    "print('fscore: {}'.format(fscore))\n",
    "print('support: {}'.format(support))"
   ]
  },
  {
   "cell_type": "code",
   "execution_count": null,
   "metadata": {},
   "outputs": [],
   "source": []
  }
 ],
 "metadata": {
  "kernelspec": {
   "display_name": "Python 3",
   "language": "python",
   "name": "python3"
  },
  "language_info": {
   "codemirror_mode": {
    "name": "ipython",
    "version": 3
   },
   "file_extension": ".py",
   "mimetype": "text/x-python",
   "name": "python",
   "nbconvert_exporter": "python",
   "pygments_lexer": "ipython3",
   "version": "3.6.8"
  }
 },
 "nbformat": 4,
 "nbformat_minor": 2
}
