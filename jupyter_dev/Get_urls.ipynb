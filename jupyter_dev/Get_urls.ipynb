{
 "cells": [
  {
   "cell_type": "code",
   "execution_count": 1,
   "metadata": {},
   "outputs": [],
   "source": [
    "import sys \n",
    "sys.path.append('..')\n",
    "\n",
    "from constant import options\n",
    "from utils import utils\n",
    "import pandas as pd\n",
    "import os\n",
    "from crawler import multi_comment_crawler\n",
    "import multiprocessing\n",
    "from functools import partial\n",
    "import multiprocessing as mp\n",
    "import subprocess"
   ]
  },
  {
   "cell_type": "code",
   "execution_count": 2,
   "metadata": {},
   "outputs": [],
   "source": [
    "path_url = '../data/urls'"
   ]
  },
  {
   "cell_type": "code",
   "execution_count": 3,
   "metadata": {
    "scrolled": true
   },
   "outputs": [],
   "source": [
    "def getting_city_requirement(city_norm):\n",
    "    file_needed = []\n",
    "    for file_name in os.listdir(path_url):\n",
    "        if city_norm in file_name:\n",
    "            file_needed.append(file_name) \n",
    "    return file_needed"
   ]
  },
  {
   "cell_type": "code",
   "execution_count": 4,
   "metadata": {},
   "outputs": [],
   "source": [
    "__file__ = '/home/hieuvt/Projects/NLP/nlp-foody-sentiment-analysis/crawler'"
   ]
  },
  {
   "cell_type": "code",
   "execution_count": 5,
   "metadata": {},
   "outputs": [],
   "source": [
    "def extract(index, urls, ids):\n",
    "    print(\"Url:\",urls[index])\n",
    "    extractor = os.path.join(__file__, 'comment_crawler_slave.js')\n",
    "    subprocess.call('cd \"%(path)s\" && node \"%(extractor)s\" \"%(url)s\" \"%(label)s\" > \"%(label)s.log\" 2>&1' % {\n",
    "        'path': path_save_comment,\n",
    "        'extractor': extractor,\n",
    "        'url': urls[index],\n",
    "        'label': ids[index]\n",
    "    }, shell=True)\n",
    "    print(\"Extract success url...\")"
   ]
  },
  {
   "cell_type": "code",
   "execution_count": 6,
   "metadata": {},
   "outputs": [],
   "source": [
    "def get_url_by_city(city,path_file):\n",
    "    city_norm = utils.convert_to_nosymbol(city)\n",
    "    city_csv = getting_city_requirement(city_norm)\n",
    "    print(\"==================\",city_csv)\n",
    "    pd_list = []\n",
    "    urls = []\n",
    "    ids = []\n",
    "    if city_csv != []:\n",
    "        for file in city_csv:\n",
    "            path_csv = os.path.join(path_file,file)\n",
    "            data = pd.read_csv(path_csv)\n",
    "            pd_list.append(data)\n",
    "        new_df = pd.concat(pd_list)\n",
    "        urls = list(new_df['url'].values)\n",
    "        ids = list(new_df['id'].values)\n",
    "        print(\"{} urls extracted from {}...\".format(len(urls),city))\n",
    "    else:\n",
    "        print(\"None extracted from {}...\".format(city))\n",
    "    return urls,ids"
   ]
  },
  {
   "cell_type": "code",
   "execution_count": 7,
   "metadata": {},
   "outputs": [],
   "source": [
    "path_save_comment = '../data/raw_data'"
   ]
  },
  {
   "cell_type": "code",
   "execution_count": null,
   "metadata": {
    "scrolled": true
   },
   "outputs": [
    {
     "name": "stdout",
     "output_type": "stream",
     "text": [
      "================== ['.~lock.urls_an_giang_o_dau.csv#', 'urls_an_giang_o_dau.csv']\n",
      "709 urls extracted from An Giang...\n"
     ]
    },
    {
     "name": "stderr",
     "output_type": "stream",
     "text": [
      "/home/hieuvt/Projects/NLP/nlp-foody-sentiment-analysis/crawler:13: FutureWarning: Sorting because non-concatenation axis is not aligned. A future version\n",
      "of pandas will change to not sort by default.\n",
      "\n",
      "To accept the future behavior, pass 'sort=False'.\n",
      "\n",
      "To retain the current behavior and silence the warning, pass 'sort=True'.\n",
      "\n"
     ]
    },
    {
     "name": "stdout",
     "output_type": "stream",
     "text": [
      "Url: https://www.foody.vn/an-giang/quan-nhau-phuong-nam\n",
      "Url: https://www.foody.vn/an-giang/binh-minh-com-pho-hu-tieu\n",
      "Url: https://www.foody.vn/an-giang/chao-ga-goi-ga\n",
      "Url: https://www.foody.vn/an-giang/bun-rieu-6-pha\n",
      "Extract success url...\n",
      "Url: https://www.foody.vn/an-giang/hai-lieu-kem-trai-dua\n",
      "Extract success url...\n",
      "Url: https://www.foody.vn/an-giang/quan-ken-lau-han-quoc\n",
      "Extract success url...\n",
      "Extract success url...\n",
      "Url: https://www.foody.vn/an-giang/lotteria-coopmart-long-xuyen\n",
      "Url: https://www.foody.vn/an-giang/bun-ca-halal\n",
      "Extract success url...\n",
      "Url: https://www.foody.vn/an-giang/soda-dem\n",
      "Extract success url...\n",
      "Url: https://www.foody.vn/an-giang/bun-ca-con-tien\n",
      "Extract success url...\n",
      "Url: https://www.foody.vn/an-giang/bo-tu-thieng-quoc-lo-91\n",
      "Extract success url...\n",
      "Url: https://www.foody.vn/an-giang/jollibee-co-op-mart-long-xuyen\n",
      "Extract success url...\n",
      "Url: https://www.foody.vn/an-giang/bun-ca-co-hai\n",
      "Extract success url...\n",
      "Url: https://www.foody.vn/an-giang/quan-com-bay-bong-2-trung-nu-vuong\n",
      "Extract success url...\n",
      "Url: https://www.foody.vn/an-giang/vuon-oi-bay-thin-quan-an-gia-dinh\n",
      "Extract success url...\n",
      "Url: https://www.foody.vn/an-giang/hoang-phat-cafe\n",
      "Extract success url...\n",
      "Url: https://www.foody.vn/an-giang/an-chau-giai-khat-sinh-to\n",
      "Extract success url...\n",
      "Url: https://www.foody.vn/an-giang/thien-tin-cafe-san-vuon\n",
      "Extract success url...\n",
      "Url: https://www.foody.vn/an-giang/dream-catcher-mon-nhat\n",
      "Extract success url...\n",
      "Url: https://www.foody.vn/an-giang/hai-san-lan-anh-2-quan-nhau-binh-dan\n",
      "Extract success url...\n",
      "Url: https://www.foody.vn/an-giang/mimosa-cafe-hoang-dieu\n",
      "Extract success url...\n",
      "Url: https://www.foody.vn/an-giang/memory-cafe\n",
      "Extract success url...\n",
      "Url: https://www.foody.vn/an-giang/3-hien-bun-dau-mam-tom\n",
      "Extract success url...\n",
      "Url: https://www.foody.vn/an-giang/pizza-memory-nguyen-huu-canh\n"
     ]
    }
   ],
   "source": [
    "total_urls = 0\n",
    "for city in options.Location.city:\n",
    "    urls,ids = get_url_by_city(city,path_url)\n",
    "    total_urls += len(urls)\n",
    "#     pool = mp.Pool(processes=len(urls))\n",
    "    pool = multiprocessing.Pool(4)\n",
    "#     pool.map_async(extract, range(len(urls))) #len(extractor.urls)\n",
    "    pool.map(partial(extract, urls=urls, ids=ids), range(len(urls)))\n",
    "    pool.close()\n",
    "    pool.join()\n",
    "print(\"Total urls:\",total_urls)"
   ]
  },
  {
   "cell_type": "code",
   "execution_count": null,
   "metadata": {},
   "outputs": [],
   "source": []
  }
 ],
 "metadata": {
  "kernelspec": {
   "display_name": "Python 3",
   "language": "python",
   "name": "python3"
  },
  "language_info": {
   "codemirror_mode": {
    "name": "ipython",
    "version": 3
   },
   "file_extension": ".py",
   "mimetype": "text/x-python",
   "name": "python",
   "nbconvert_exporter": "python",
   "pygments_lexer": "ipython3",
   "version": "3.6.8"
  }
 },
 "nbformat": 4,
 "nbformat_minor": 2
}
