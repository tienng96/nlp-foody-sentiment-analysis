{
 "cells": [
  {
   "cell_type": "code",
   "execution_count": 1,
   "metadata": {},
   "outputs": [],
   "source": [
    "class PATH():\n",
    "    model_path = '../model/model.pickle'\n",
    "    vectorizer_path = '../model/vectorizer.pickle'\n",
    "    vectorizer_score_path = '../model/vectorizer_score.pickle'\n",
    "    vectorizer_comment_path = '../model/vectorizer_comment.pickle'\n",
    "path = PATH()"
   ]
  },
  {
   "cell_type": "code",
   "execution_count": 2,
   "metadata": {},
   "outputs": [],
   "source": [
    "import sys\n",
    "sys.path.append('..')\n",
    "import os\n",
    "from processor import preprocessor\n",
    "from pyvi import ViTokenizer\n",
    "from train import vectorizer\n",
    "import pickle"
   ]
  },
  {
   "cell_type": "code",
   "execution_count": 3,
   "metadata": {},
   "outputs": [
    {
     "name": "stdout",
     "output_type": "stream",
     "text": [
      "Moi ban nhap comment cua ban:\n",
      "Món này không ngon \n"
     ]
    }
   ],
   "source": [
    "print(\"Moi ban nhap comment cua ban:\")\n",
    "comment_input = input()"
   ]
  },
  {
   "cell_type": "code",
   "execution_count": 4,
   "metadata": {},
   "outputs": [],
   "source": [
    "with open(\"../processor/vietnamese-stopwords-dash.txt\", encoding=\"utf8\") as input_file:\n",
    "    x = input_file.readlines()\n",
    "    removetable = str.maketrans('', '', '\\n')\n",
    "    stopwords = [s.translate(removetable) for s in x]\n",
    "def tokenize(text, stopwords):\n",
    "    text_segmented = ViTokenizer.tokenize(text).split()\n",
    "    text_segmented = [elem for elem in text_segmented if elem not in stopwords]\n",
    "    return ' '.join(text_segmented)\n",
    "# def vectorize(reviews): \n",
    "#     with open(r\"../model/vectorizer.pickle\",\"rb\") as input_file:\n",
    "#         vectorizer = pickle.load(input_file)\n",
    "#     text_vectorizer = vectorizer.transform(reviews)#.toarray()\n",
    "#     return text_vectorizer\n"
   ]
  },
  {
   "cell_type": "code",
   "execution_count": 5,
   "metadata": {},
   "outputs": [],
   "source": [
    "text_processing = preprocessor.preprocess(comment_input)\n",
    "temp_text = tokenize(text_processing, stopwords)"
   ]
  },
  {
   "cell_type": "code",
   "execution_count": 6,
   "metadata": {},
   "outputs": [
    {
     "data": {
      "text/plain": [
       "'món không ngon'"
      ]
     },
     "execution_count": 6,
     "metadata": {},
     "output_type": "execute_result"
    }
   ],
   "source": [
    "temp_text"
   ]
  },
  {
   "cell_type": "code",
   "execution_count": 7,
   "metadata": {},
   "outputs": [
    {
     "data": {
      "text/plain": [
       "['món không ngon']"
      ]
     },
     "execution_count": 7,
     "metadata": {},
     "output_type": "execute_result"
    }
   ],
   "source": [
    "[temp_text]"
   ]
  },
  {
   "cell_type": "code",
   "execution_count": 8,
   "metadata": {},
   "outputs": [
    {
     "name": "stdout",
     "output_type": "stream",
     "text": [
      "text_vectorizer.shape: (1, 390)\n"
     ]
    }
   ],
   "source": [
    "with open(r\"../model/vectorizer.pickle\",\"rb\") as input_file:\n",
    "        vectorizer = pickle.load(input_file)\n",
    "text_vectorizer = vectorizer.transform([temp_text])#.toarray()\n",
    "print(\"text_vectorizer.shape:\",text_vectorizer.shape)"
   ]
  },
  {
   "cell_type": "code",
   "execution_count": null,
   "metadata": {},
   "outputs": [],
   "source": []
  },
  {
   "cell_type": "code",
   "execution_count": 9,
   "metadata": {},
   "outputs": [],
   "source": [
    "with open(r\"../model/model.pickle\",\"rb\") as input_file:\n",
    "    clf = pickle.load(input_file)"
   ]
  },
  {
   "cell_type": "code",
   "execution_count": 10,
   "metadata": {},
   "outputs": [
    {
     "data": {
      "text/plain": [
       "array([1])"
      ]
     },
     "execution_count": 10,
     "metadata": {},
     "output_type": "execute_result"
    }
   ],
   "source": [
    "clf.predict(text_vectorizer)"
   ]
  },
  {
   "cell_type": "code",
   "execution_count": null,
   "metadata": {},
   "outputs": [],
   "source": []
  }
 ],
 "metadata": {
  "kernelspec": {
   "display_name": "Python 3",
   "language": "python",
   "name": "python3"
  },
  "language_info": {
   "codemirror_mode": {
    "name": "ipython",
    "version": 3
   },
   "file_extension": ".py",
   "mimetype": "text/x-python",
   "name": "python",
   "nbconvert_exporter": "python",
   "pygments_lexer": "ipython3",
   "version": "3.6.8"
  }
 },
 "nbformat": 4,
 "nbformat_minor": 2
}
